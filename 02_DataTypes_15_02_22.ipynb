{
 "cells": [
  {
   "cell_type": "markdown",
   "id": "68feca2f",
   "metadata": {},
   "source": [
    "# DATATYPES"
   ]
  },
  {
   "cell_type": "markdown",
   "id": "f94ee8f0-629b-4e74-81f2-a967b127c482",
   "metadata": {},
   "source": [
    "# 1. Number"
   ]
  },
  {
   "cell_type": "markdown",
   "id": "223952e4-0e7c-4b06-a607-8d1cc86354ed",
   "metadata": {},
   "source": [
    "# Int, Float, Complex Numbers"
   ]
  },
  {
   "cell_type": "code",
   "execution_count": 30,
   "id": "4782737b-dd2e-471d-b851-e18a2e67bf85",
   "metadata": {},
   "outputs": [
    {
     "name": "stdout",
     "output_type": "stream",
     "text": [
      "5\n",
      "<class 'int'>\n"
     ]
    }
   ],
   "source": [
    "#INTEGER\n",
    "a=5\n",
    "print(a)\n",
    "print(type(a))"
   ]
  },
  {
   "cell_type": "code",
   "execution_count": 31,
   "id": "cad4a575-a586-496f-9ef2-6d94741a930b",
   "metadata": {},
   "outputs": [
    {
     "name": "stdout",
     "output_type": "stream",
     "text": [
      "2.5\n",
      "<class 'float'>\n"
     ]
    }
   ],
   "source": [
    "#FLOAT\n",
    "b=2.5\n",
    "print(b)\n",
    "print(type(b))"
   ]
  },
  {
   "cell_type": "code",
   "execution_count": 33,
   "id": "0e6b0ac4-2a5e-4fb6-9874-43fd91d5b43a",
   "metadata": {},
   "outputs": [
    {
     "name": "stdout",
     "output_type": "stream",
     "text": [
      "(2+3j)\n",
      "<class 'complex'>\n"
     ]
    }
   ],
   "source": [
    "#COMPLEX NUMBER\n",
    "c=2+3j\n",
    "print(c)\n",
    "print(type(c))"
   ]
  },
  {
   "cell_type": "markdown",
   "id": "875681ac-79c3-4e82-8022-18595159e0e8",
   "metadata": {},
   "source": [
    "# 2. String"
   ]
  },
  {
   "cell_type": "code",
   "execution_count": 34,
   "id": "0a5a4c68-71b9-463b-9089-4002765b1e3f",
   "metadata": {},
   "outputs": [
    {
     "name": "stdout",
     "output_type": "stream",
     "text": [
      "Python\n"
     ]
    }
   ],
   "source": [
    "a = \"Python\"\n",
    "print (a)"
   ]
  },
  {
   "cell_type": "code",
   "execution_count": 35,
   "id": "1211d5d3-b1db-4ab6-a128-287e6ece7c37",
   "metadata": {},
   "outputs": [
    {
     "name": "stdout",
     "output_type": "stream",
     "text": [
      "2.5\n",
      "<class 'str'>\n"
     ]
    }
   ],
   "source": [
    "b=\"2.5\"\n",
    "print (b)\n",
    "print(type(b))"
   ]
  },
  {
   "cell_type": "markdown",
   "id": "f1674f79",
   "metadata": {},
   "source": [
    "# \\n is a line break character and \\t is used to give a tab space in between"
   ]
  },
  {
   "cell_type": "code",
   "execution_count": 48,
   "id": "cd7a1519-bc90-4d5f-a3fc-73a059e8ecb8",
   "metadata": {},
   "outputs": [
    {
     "name": "stdout",
     "output_type": "stream",
     "text": [
      "HEY! \n",
      " \n",
      "I am \t Muskan.\n"
     ]
    }
   ],
   "source": [
    "A=\"HEY! \\n \\nI am \\t Muskan.\"\n",
    "print(A)"
   ]
  },
  {
   "cell_type": "markdown",
   "id": "cf6f8cec",
   "metadata": {},
   "source": [
    "# Multiple Line string is denoted with ''' ..... '''"
   ]
  },
  {
   "cell_type": "code",
   "execution_count": 38,
   "id": "b9c13270-3331-47fe-86d8-c6c5623a9093",
   "metadata": {},
   "outputs": [
    {
     "name": "stdout",
     "output_type": "stream",
     "text": [
      "Hii! My name is Muskan Chhabra.\n",
      "You can find me on instagra @kinda_savage_.\n",
      "Follow for more updates.\n",
      "<class 'str'>\n"
     ]
    }
   ],
   "source": [
    "d = '''Hii! My name is Muskan Chhabra.\n",
    "You can find me on instagra @kinda_savage_.\n",
    "Follow for more updates.'''\n",
    "print(d)\n",
    "print(type(d))"
   ]
  },
  {
   "cell_type": "markdown",
   "id": "87b73cca",
   "metadata": {},
   "source": [
    "# Denoted by '''...''', \"...\", '...'"
   ]
  },
  {
   "cell_type": "code",
   "execution_count": 23,
   "id": "ecf987b3",
   "metadata": {},
   "outputs": [],
   "source": [
    "# Concatination\n",
    "# Indexing\n",
    "# Slicing\n",
    "# Method"
   ]
  },
  {
   "cell_type": "code",
   "execution_count": 47,
   "id": "b9614df6-7954-40a0-9d42-4c5afc801aa8",
   "metadata": {},
   "outputs": [
    {
     "name": "stdout",
     "output_type": "stream",
     "text": [
      "HelloEveryone\n",
      "Hello Everyone\n"
     ]
    }
   ],
   "source": [
    "#Concatination\n",
    "a='Hello'\n",
    "b='Everyone'\n",
    "print(a+b)\n",
    "print(a+' '+b)"
   ]
  },
  {
   "cell_type": "code",
   "execution_count": 49,
   "id": "8fdb0cb6-fc02-4cf2-a0b2-c23c1cb016da",
   "metadata": {},
   "outputs": [],
   "source": [
    "# #Indexing\n",
    "# #Indexing starts at 0, so the string Hello:\n",
    "# character: h e l l o\n",
    "# index    : 0 1 2 3 4\n",
    "# you can use square brackets [] to grab single character \n",
    "# reverse indexing :  h e l l o\n",
    "#                  : -5-4-3-2-1"
   ]
  },
  {
   "cell_type": "code",
   "execution_count": 50,
   "id": "70d5e9cb-0798-4130-9fd7-5752edd8a853",
   "metadata": {},
   "outputs": [
    {
     "name": "stdout",
     "output_type": "stream",
     "text": [
      "Y\n",
      "N\n",
      "N\n",
      "T\n",
      "P\n",
      "N P\n"
     ]
    }
   ],
   "source": [
    "a = \"PYTHON\"\n",
    "print(a[1])\n",
    "print(a[5])\n",
    "print(a[-1])\n",
    "print(a[-4])\n",
    "print(a[-6])\n",
    "print(a[-1], a[-6])"
   ]
  },
  {
   "cell_type": "code",
   "execution_count": null,
   "id": "c7435c84",
   "metadata": {},
   "outputs": [],
   "source": [
    "# Slicing\n",
    "# Syntax\n",
    "# [start: Stop: Step]\n",
    "# step is default 1\n",
    "# if no start is given and step is +ve the start is 0\n",
    "# if no start is given and step is -ve the start is -1"
   ]
  },
  {
   "cell_type": "code",
   "execution_count": 2,
   "id": "46a4fed6",
   "metadata": {},
   "outputs": [
    {
     "data": {
      "text/plain": [
       "'abc'"
      ]
     },
     "execution_count": 2,
     "metadata": {},
     "output_type": "execute_result"
    }
   ],
   "source": [
    "alpha ='abcdef'\n",
    "alpha[0:3]"
   ]
  },
  {
   "cell_type": "code",
   "execution_count": 3,
   "id": "38c205c7",
   "metadata": {},
   "outputs": [
    {
     "data": {
      "text/plain": [
       "'USKA'"
      ]
     },
     "execution_count": 3,
     "metadata": {},
     "output_type": "execute_result"
    }
   ],
   "source": [
    "dear = \"MUSKAN\"\n",
    "dear [1:5]"
   ]
  },
  {
   "cell_type": "code",
   "execution_count": 10,
   "id": "177d04d3",
   "metadata": {},
   "outputs": [
    {
     "data": {
      "text/plain": [
       "'HSE'"
      ]
     },
     "execution_count": 10,
     "metadata": {},
     "output_type": "execute_result"
    }
   ],
   "source": [
    "student= \"ABHISHEK\"\n",
    "student[2:8:2]"
   ]
  },
  {
   "cell_type": "code",
   "execution_count": 17,
   "id": "063f171a",
   "metadata": {},
   "outputs": [
    {
     "data": {
      "text/plain": [
       "'eeru'"
      ]
     },
     "execution_count": 17,
     "metadata": {},
     "output_type": "execute_result"
    }
   ],
   "source": [
    "place = \"Meerut\"\n",
    "place[1:5]"
   ]
  },
  {
   "cell_type": "code",
   "execution_count": 12,
   "id": "bb456b01",
   "metadata": {},
   "outputs": [
    {
     "data": {
      "text/plain": [
       "''"
      ]
     },
     "execution_count": 12,
     "metadata": {},
     "output_type": "execute_result"
    }
   ],
   "source": [
    "place = \"Meerut\"\n",
    "place[1:5:-1]"
   ]
  },
  {
   "cell_type": "code",
   "execution_count": 13,
   "id": "485741ff",
   "metadata": {},
   "outputs": [
    {
     "data": {
      "text/plain": [
       "''"
      ]
     },
     "execution_count": 13,
     "metadata": {},
     "output_type": "execute_result"
    }
   ],
   "source": [
    "place = \"Meerut\"\n",
    "place[1:-5]"
   ]
  },
  {
   "cell_type": "code",
   "execution_count": 14,
   "id": "3a70c0dd",
   "metadata": {},
   "outputs": [
    {
     "data": {
      "text/plain": [
       "''"
      ]
     },
     "execution_count": 14,
     "metadata": {},
     "output_type": "execute_result"
    }
   ],
   "source": [
    "place = \"Meerut\"\n",
    "place[-1:-5]"
   ]
  },
  {
   "cell_type": "code",
   "execution_count": 15,
   "id": "7c6b1027",
   "metadata": {},
   "outputs": [
    {
     "data": {
      "text/plain": [
       "'eeru'"
      ]
     },
     "execution_count": 15,
     "metadata": {},
     "output_type": "execute_result"
    }
   ],
   "source": [
    "place = \"Meerut\"\n",
    "place[-5:-1]"
   ]
  },
  {
   "cell_type": "code",
   "execution_count": 16,
   "id": "4c2b3463",
   "metadata": {},
   "outputs": [
    {
     "data": {
      "text/plain": [
       "'eM'"
      ]
     },
     "execution_count": 16,
     "metadata": {},
     "output_type": "execute_result"
    }
   ],
   "source": [
    "place = \"Meerut\"\n",
    "place[-5::-1]"
   ]
  },
  {
   "cell_type": "code",
   "execution_count": 18,
   "id": "ae940ad3",
   "metadata": {},
   "outputs": [
    {
     "data": {
      "text/plain": [
       "'Boa au'"
      ]
     },
     "execution_count": 18,
     "metadata": {},
     "output_type": "execute_result"
    }
   ],
   "source": [
    "place= \"Bhopal Hapur\"\n",
    "place[0::2]"
   ]
  },
  {
   "cell_type": "code",
   "execution_count": 19,
   "id": "c0a6bd8a",
   "metadata": {},
   "outputs": [
    {
     "name": "stdout",
     "output_type": "stream",
     "text": [
      "WORLD\n",
      "EL O\n"
     ]
    }
   ],
   "source": [
    "a =\"HELLO WORLD\"\n",
    "print (a[6:])\n",
    "print (a[1:9:2])"
   ]
  },
  {
   "cell_type": "markdown",
   "id": "73a657a9",
   "metadata": {},
   "source": [
    "# If we don't give any stop and step is positive then the entire string is sliced from start to end in direction of left to right.\n",
    "# If we don't give any stop and step is negative then the entire string is sliced from start to end in direction of right to left."
   ]
  },
  {
   "cell_type": "code",
   "execution_count": 25,
   "id": "89280a43",
   "metadata": {},
   "outputs": [
    {
     "name": "stdout",
     "output_type": "stream",
     "text": [
      "NOHTYP\n",
      "PYTHON\n"
     ]
    }
   ],
   "source": [
    "a =\"PYTHON\"\n",
    "print (a[::-1])\n",
    "print (a[:])"
   ]
  },
  {
   "cell_type": "code",
   "execution_count": 26,
   "id": "cb2a93f4",
   "metadata": {},
   "outputs": [],
   "source": [
    "# Methods"
   ]
  },
  {
   "cell_type": "code",
   "execution_count": 27,
   "id": "3f18a1cf",
   "metadata": {},
   "outputs": [
    {
     "data": {
      "text/plain": [
       "['__add__',\n",
       " '__class__',\n",
       " '__contains__',\n",
       " '__delattr__',\n",
       " '__dir__',\n",
       " '__doc__',\n",
       " '__eq__',\n",
       " '__format__',\n",
       " '__ge__',\n",
       " '__getattribute__',\n",
       " '__getitem__',\n",
       " '__getnewargs__',\n",
       " '__gt__',\n",
       " '__hash__',\n",
       " '__init__',\n",
       " '__init_subclass__',\n",
       " '__iter__',\n",
       " '__le__',\n",
       " '__len__',\n",
       " '__lt__',\n",
       " '__mod__',\n",
       " '__mul__',\n",
       " '__ne__',\n",
       " '__new__',\n",
       " '__reduce__',\n",
       " '__reduce_ex__',\n",
       " '__repr__',\n",
       " '__rmod__',\n",
       " '__rmul__',\n",
       " '__setattr__',\n",
       " '__sizeof__',\n",
       " '__str__',\n",
       " '__subclasshook__',\n",
       " 'capitalize',\n",
       " 'casefold',\n",
       " 'center',\n",
       " 'count',\n",
       " 'encode',\n",
       " 'endswith',\n",
       " 'expandtabs',\n",
       " 'find',\n",
       " 'format',\n",
       " 'format_map',\n",
       " 'index',\n",
       " 'isalnum',\n",
       " 'isalpha',\n",
       " 'isascii',\n",
       " 'isdecimal',\n",
       " 'isdigit',\n",
       " 'isidentifier',\n",
       " 'islower',\n",
       " 'isnumeric',\n",
       " 'isprintable',\n",
       " 'isspace',\n",
       " 'istitle',\n",
       " 'isupper',\n",
       " 'join',\n",
       " 'ljust',\n",
       " 'lower',\n",
       " 'lstrip',\n",
       " 'maketrans',\n",
       " 'partition',\n",
       " 'removeprefix',\n",
       " 'removesuffix',\n",
       " 'replace',\n",
       " 'rfind',\n",
       " 'rindex',\n",
       " 'rjust',\n",
       " 'rpartition',\n",
       " 'rsplit',\n",
       " 'rstrip',\n",
       " 'split',\n",
       " 'splitlines',\n",
       " 'startswith',\n",
       " 'strip',\n",
       " 'swapcase',\n",
       " 'title',\n",
       " 'translate',\n",
       " 'upper',\n",
       " 'zfill']"
      ]
     },
     "execution_count": 27,
     "metadata": {},
     "output_type": "execute_result"
    }
   ],
   "source": [
    "dir(str)"
   ]
  },
  {
   "cell_type": "code",
   "execution_count": 29,
   "id": "2f04058c",
   "metadata": {},
   "outputs": [
    {
     "name": "stdout",
     "output_type": "stream",
     "text": [
      "PYTHON\n",
      "python PYTHON\n"
     ]
    }
   ],
   "source": [
    "a =\"PYTHON\"\n",
    "print (a)\n",
    "c= a.lower()\n",
    "print(c,a)"
   ]
  },
  {
   "cell_type": "code",
   "execution_count": 30,
   "id": "da69e01d",
   "metadata": {},
   "outputs": [
    {
     "name": "stdout",
     "output_type": "stream",
     "text": [
      "Hello world\n",
      "Hello World\n"
     ]
    }
   ],
   "source": [
    "a ='hello world'\n",
    "print(a.capitalize())\n",
    "print(a.title())"
   ]
  },
  {
   "cell_type": "code",
   "execution_count": 31,
   "id": "4918a596",
   "metadata": {},
   "outputs": [
    {
     "name": "stdout",
     "output_type": "stream",
     "text": [
      "************ ABC *************\n"
     ]
    }
   ],
   "source": [
    "a= ' ABC '\n",
    "print(a.center(30,'*'))"
   ]
  },
  {
   "cell_type": "code",
   "execution_count": 32,
   "id": "db5a07cb",
   "metadata": {},
   "outputs": [
    {
     "name": "stdout",
     "output_type": "stream",
     "text": [
      "************************************* I AM A PYTHON DEVELOPER **************************************\n"
     ]
    }
   ],
   "source": [
    "a= ' I AM A PYTHON DEVELOPER '\n",
    "print(a.center(100,'*'))"
   ]
  },
  {
   "cell_type": "code",
   "execution_count": 33,
   "id": "aade0ea2",
   "metadata": {},
   "outputs": [
    {
     "name": "stdout",
     "output_type": "stream",
     "text": [
      "True\n",
      "False\n",
      "False\n",
      "True\n",
      "False\n",
      "True\n",
      "False\n"
     ]
    }
   ],
   "source": [
    "# THERE ARE VARIOUS CHECK METHODS WHICH APPLY TO A STRING\n",
    "# To check for some conditions\n",
    "\n",
    "a= 'python123'\n",
    "print(a.islower())\n",
    "print(a.isupper())\n",
    "print(a.isalpha())\n",
    "print(a.isalnum())\n",
    "print(a.isdigit())\n",
    "print(a.startswith('py'))\n",
    "print(a.endswith('n'))"
   ]
  },
  {
   "cell_type": "code",
   "execution_count": 34,
   "id": "7fc38481",
   "metadata": {},
   "outputs": [
    {
     "name": "stdout",
     "output_type": "stream",
     "text": [
      "ARGENTINA\n",
      "ANITNEGRA\n",
      "$NITNEGRA\n",
      "ARGENTIN$\n"
     ]
    }
   ],
   "source": [
    "a= 'ARGENTINA'\n",
    "print(a)\n",
    "b= a[::-1]\n",
    "print (b)\n",
    "b= b.replace('A','$',1)\n",
    "print (b)\n",
    "b= b[::-1]\n",
    "print (b)"
   ]
  },
  {
   "cell_type": "code",
   "execution_count": 35,
   "id": "6182432a",
   "metadata": {},
   "outputs": [
    {
     "name": "stdout",
     "output_type": "stream",
     "text": [
      "Help on method_descriptor:\n",
      "\n",
      "strip(self, chars=None, /)\n",
      "    Return a copy of the string with leading and trailing whitespace removed.\n",
      "    \n",
      "    If chars is given and not None, remove characters in chars instead.\n",
      "\n"
     ]
    }
   ],
   "source": [
    "help(str.strip)"
   ]
  },
  {
   "cell_type": "code",
   "execution_count": 36,
   "id": "3f52977b",
   "metadata": {},
   "outputs": [
    {
     "name": "stdout",
     "output_type": "stream",
     "text": [
      "     THIS IS AN EXAMPLE         <class 'str'>\n",
      "THIS IS AN EXAMPLE\n"
     ]
    }
   ],
   "source": [
    "a='     THIS IS AN EXAMPLE        '\n",
    "print(a,type(a))\n",
    "b=a.strip()\n",
    "print (b)"
   ]
  },
  {
   "cell_type": "code",
   "execution_count": 42,
   "id": "451d41ad",
   "metadata": {},
   "outputs": [
    {
     "name": "stdout",
     "output_type": "stream",
     "text": [
      "3\n",
      "6\n",
      "-1\n",
      "6\n"
     ]
    }
   ],
   "source": [
    "a= 'HELLO WORLD'\n",
    "print(a.count('L'))\n",
    "print(a.index('WORLD'))\n",
    "print(a.find('World'))\n",
    "print(a.find('WORLD'))"
   ]
  },
  {
   "cell_type": "code",
   "execution_count": 40,
   "id": "f70a8495",
   "metadata": {},
   "outputs": [
    {
     "name": "stdout",
     "output_type": "stream",
     "text": [
      "Help on method_descriptor:\n",
      "\n",
      "find(...)\n",
      "    S.find(sub[, start[, end]]) -> int\n",
      "    \n",
      "    Return the lowest index in S where substring sub is found,\n",
      "    such that sub is contained within S[start:end].  Optional\n",
      "    arguments start and end are interpreted as in slice notation.\n",
      "    \n",
      "    Return -1 on failure.\n",
      "\n"
     ]
    }
   ],
   "source": [
    "help(str.find)"
   ]
  },
  {
   "cell_type": "markdown",
   "id": "99a49967",
   "metadata": {},
   "source": [
    "# 3. List"
   ]
  },
  {
   "cell_type": "markdown",
   "id": "4f1337ff",
   "metadata": {},
   "source": [
    "# Denoted by [ ] and items are seperated using a ','."
   ]
  },
  {
   "cell_type": "code",
   "execution_count": 43,
   "id": "61d18fc4",
   "metadata": {},
   "outputs": [],
   "source": [
    "# Concatenation\n",
    "# indexing, slicing\n",
    "# Methods\n",
    "# a = []------> Empty List"
   ]
  },
  {
   "cell_type": "code",
   "execution_count": 44,
   "id": "54015e84",
   "metadata": {},
   "outputs": [
    {
     "name": "stdout",
     "output_type": "stream",
     "text": [
      "[] <class 'list'> 0\n"
     ]
    }
   ],
   "source": [
    "a =[]\n",
    "print(a, type(a), len(a))"
   ]
  },
  {
   "cell_type": "code",
   "execution_count": 47,
   "id": "d5ff85ec",
   "metadata": {},
   "outputs": [
    {
     "name": "stdout",
     "output_type": "stream",
     "text": [
      "[10, 20, 30, 40]\n",
      "['hello', 2.3, 96, [1, 2, 3]]\n"
     ]
    }
   ],
   "source": [
    "# Homogeneous data --------> same type\n",
    "\n",
    "a =[10,20,30,40]\n",
    "print (a)\n",
    "\n",
    "# Hetrogeneous data -------> multiple types\n",
    "\n",
    "b =[\"hello\", 2.3, 96, [1,2,3]]\n",
    "print (b)"
   ]
  },
  {
   "cell_type": "code",
   "execution_count": 54,
   "id": "6fcd7ead",
   "metadata": {},
   "outputs": [
    {
     "name": "stdout",
     "output_type": "stream",
     "text": [
      "[1, 4] [3, 5, 6] 2033008576768\n",
      "[1, 4, 3, 5, 6]\n"
     ]
    }
   ],
   "source": [
    "# Concatenation\n",
    "\n",
    "A =[1,4]\n",
    "B =[3,5,6]\n",
    "print (A,B,id(A))\n",
    "C =A + B\n",
    "print(C)"
   ]
  },
  {
   "cell_type": "code",
   "execution_count": 59,
   "id": "42627523",
   "metadata": {},
   "outputs": [
    {
     "name": "stdout",
     "output_type": "stream",
     "text": [
      "[[10, 20], ['Hello', 'Python'], ['hi', 'i'], 3] 4\n",
      "[10, 20]\n",
      "['Hello', 'Python']\n",
      "['hi', 'i']\n",
      "3\n"
     ]
    }
   ],
   "source": [
    "# Indexing and Slicing\n",
    "# It works the same way it worked on String\n",
    "\n",
    "a = [[10,20], [\"Hello\", \"Python\"], [\"hi\", \"i\"], 3]\n",
    "print (a,len(a))\n",
    "print(a[0])\n",
    "print(a[1])\n",
    "print(a[2])\n",
    "print(a[3])"
   ]
  },
  {
   "cell_type": "code",
   "execution_count": 60,
   "id": "34d2979d",
   "metadata": {},
   "outputs": [
    {
     "name": "stdout",
     "output_type": "stream",
     "text": [
      "Help on method_descriptor:\n",
      "\n",
      "pop(self, index=-1, /)\n",
      "    Remove and return item at index (default last).\n",
      "    \n",
      "    Raises IndexError if list is empty or index is out of range.\n",
      "\n"
     ]
    }
   ],
   "source": [
    "help(list.pop)"
   ]
  },
  {
   "cell_type": "code",
   "execution_count": 70,
   "id": "43262f23",
   "metadata": {},
   "outputs": [
    {
     "name": "stdout",
     "output_type": "stream",
     "text": [
      "[10, 20, 30] <class 'list'>\n",
      "[10, 20, 30, 40] None\n",
      "[10, 20, 30, 40, [1, 2, 3]]\n",
      "[10, 40, 20, 30, 40, [1, 2, 3]]\n",
      "[10, 20, 30, 40, [1, 2, 3]]\n",
      "[1, 2, 3]\n",
      "40\n"
     ]
    }
   ],
   "source": [
    "a=[10,20,30]\n",
    "print(a, type(a))\n",
    "\n",
    " # APPEND METHOD ADDS ITEM TO END OF THE LIST\n",
    "b =a.append(40)\n",
    "print(a,b)\n",
    "a.append([1,2,3])\n",
    "print(a)\n",
    "\n",
    " # INSERT METHOD ADD ITEM TO THE INDEX POSITION MENTIONED.\n",
    "a.insert(1,40)\n",
    "print(a)\n",
    "\n",
    " # REPLACE METHOD DELETES THE VALUES PASSED AS AN ARGUMENT\n",
    "a.remove(40)\n",
    "print(a)\n",
    "\n",
    " # POP METHOD REMOVES THE ITEM FROM PARTICULAR INDEX.\n",
    " # BY DEFAULT LAST\n",
    "b=a.pop()\n",
    "print(b)\n",
    "b=a.pop()\n",
    "print(b)"
   ]
  }
 ],
 "metadata": {
  "kernelspec": {
   "display_name": "Python 3 (ipykernel)",
   "language": "python",
   "name": "python3"
  },
  "language_info": {
   "codemirror_mode": {
    "name": "ipython",
    "version": 3
   },
   "file_extension": ".py",
   "mimetype": "text/x-python",
   "name": "python",
   "nbconvert_exporter": "python",
   "pygments_lexer": "ipython3",
   "version": "3.9.7"
  }
 },
 "nbformat": 4,
 "nbformat_minor": 5
}
