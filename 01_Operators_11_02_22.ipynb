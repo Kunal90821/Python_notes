{
 "cells": [
  {
   "cell_type": "markdown",
   "id": "9e90bc8d-40f5-4ca0-80fd-0849002d25d9",
   "metadata": {},
   "source": [
    "# PYTHON"
   ]
  },
  {
   "cell_type": "code",
   "execution_count": 1,
   "id": "9091ee0e-1304-43d5-b605-24e6fed97d23",
   "metadata": {},
   "outputs": [
    {
     "name": "stdout",
     "output_type": "stream",
     "text": [
      "Princess Muskan Chhabra\n"
     ]
    }
   ],
   "source": [
    "print(\"Princess Muskan Chhabra\")"
   ]
  },
  {
   "cell_type": "markdown",
   "id": "2b52bc3c-e705-41e2-af13-c685b4ea3782",
   "metadata": {},
   "source": [
    "# KEYWORDS"
   ]
  },
  {
   "cell_type": "code",
   "execution_count": 20,
   "id": "f3cdb840-bab8-4bad-8b8b-817cc31dbb45",
   "metadata": {
    "tags": []
   },
   "outputs": [
    {
     "name": "stdout",
     "output_type": "stream",
     "text": [
      "\n",
      "Welcome to Python 3.9's help utility!\n",
      "\n",
      "If this is your first time using Python, you should definitely check out\n",
      "the tutorial on the Internet at https://docs.python.org/3.9/tutorial/.\n",
      "\n",
      "Enter the name of any module, keyword, or topic to get help on writing\n",
      "Python programs and using Python modules.  To quit this help utility and\n",
      "return to the interpreter, just type \"quit\".\n",
      "\n",
      "To get a list of available modules, keywords, symbols, or topics, type\n",
      "\"modules\", \"keywords\", \"symbols\", or \"topics\".  Each module also comes\n",
      "with a one-line summary of what it does; to list the modules whose name\n",
      "or summary contain a given string such as \"spam\", type \"modules spam\".\n",
      "\n"
     ]
    },
    {
     "name": "stdin",
     "output_type": "stream",
     "text": [
      "help>  Q\n"
     ]
    },
    {
     "name": "stdout",
     "output_type": "stream",
     "text": [
      "\n",
      "You are now leaving help and returning to the Python interpreter.\n",
      "If you want to ask for help on a particular object directly from the\n",
      "interpreter, you can type \"help(object)\".  Executing \"help('string')\"\n",
      "has the same effect as typing a particular string at the help> prompt.\n"
     ]
    }
   ],
   "source": [
    "help()"
   ]
  },
  {
   "cell_type": "markdown",
   "id": "49159068-cc7d-4e65-9d8e-03d8fd9b10ca",
   "metadata": {
    "tags": []
   },
   "source": [
    "# OPERATORS"
   ]
  },
  {
   "cell_type": "markdown",
   "id": "c0e9be33-eec5-4718-9e57-c27fde51a3dd",
   "metadata": {},
   "source": [
    "# Arithmatic Operator"
   ]
  },
  {
   "cell_type": "code",
   "execution_count": 1,
   "id": "0d7c32f8-475a-4a79-8d56-d69a9ead8807",
   "metadata": {},
   "outputs": [
    {
     "name": "stdout",
     "output_type": "stream",
     "text": [
      "29\n"
     ]
    }
   ],
   "source": [
    "a=27\n",
    "b=2\n",
    "c=a+b\n",
    "print(c)"
   ]
  },
  {
   "cell_type": "code",
   "execution_count": 2,
   "id": "b142d6e6-778a-447b-837d-784953c10d69",
   "metadata": {},
   "outputs": [
    {
     "name": "stdout",
     "output_type": "stream",
     "text": [
      "3\n",
      "3.5\n",
      "1\n"
     ]
    }
   ],
   "source": [
    "# Modulus and Floor Division\n",
    "\n",
    "print(7//2)\n",
    "print(7/2)\n",
    "print(7%2)"
   ]
  },
  {
   "cell_type": "code",
   "execution_count": 3,
   "id": "04730b99-402b-4d9e-8eae-7a07773049ec",
   "metadata": {},
   "outputs": [
    {
     "name": "stdout",
     "output_type": "stream",
     "text": [
      "16\n"
     ]
    }
   ],
   "source": [
    "# Exponent\n",
    "print(4**2)"
   ]
  },
  {
   "cell_type": "markdown",
   "id": "7ffec8ae-1cfa-460b-ae3f-2011af3f56e8",
   "metadata": {},
   "source": [
    "# Assignment Operator"
   ]
  },
  {
   "cell_type": "code",
   "execution_count": 5,
   "id": "ae1661f9-154b-4903-9ffd-3136af0d0b37",
   "metadata": {},
   "outputs": [
    {
     "name": "stdout",
     "output_type": "stream",
     "text": [
      "10\n",
      "13\n",
      "11\n"
     ]
    }
   ],
   "source": [
    "A=10\n",
    "print(A)\n",
    "A +=3\n",
    "print(A)\n",
    "A-=2\n",
    "print(A)"
   ]
  },
  {
   "cell_type": "code",
   "execution_count": 6,
   "id": "c7cf1710-39b3-4637-b05a-5a69bf7d8794",
   "metadata": {},
   "outputs": [
    {
     "name": "stdout",
     "output_type": "stream",
     "text": [
      "121\n"
     ]
    }
   ],
   "source": [
    "A **=2\n",
    "print(A)"
   ]
  },
  {
   "cell_type": "code",
   "execution_count": 8,
   "id": "dae78e3f-33df-4adb-8e27-49785d3acab4",
   "metadata": {},
   "outputs": [
    {
     "name": "stdout",
     "output_type": "stream",
     "text": [
      "1\n"
     ]
    }
   ],
   "source": [
    "A%=6\n",
    "print(A)"
   ]
  },
  {
   "cell_type": "markdown",
   "id": "b8aee5a2-e728-43ee-81e2-f05bb6aa03e6",
   "metadata": {},
   "source": [
    "# Comparison Operator"
   ]
  },
  {
   "cell_type": "code",
   "execution_count": 9,
   "id": "bfd6791f-29f7-44e9-a7d2-c2c9d85c0639",
   "metadata": {},
   "outputs": [],
   "source": [
    "#Comparision..... return TRUE or FALSE"
   ]
  },
  {
   "cell_type": "code",
   "execution_count": 13,
   "id": "862ba2e1-c9eb-43b3-b858-5f1e16f4ad5a",
   "metadata": {},
   "outputs": [
    {
     "name": "stdout",
     "output_type": "stream",
     "text": [
      "True\n",
      "False\n"
     ]
    }
   ],
   "source": [
    "A=4\n",
    "B=6\n",
    "C=10\n",
    "print(C==A+B)\n",
    "print(A>=C)"
   ]
  },
  {
   "cell_type": "markdown",
   "id": "d239e55b-6ee8-476b-89b2-c09d5799debb",
   "metadata": {},
   "source": [
    "# Logical Operator"
   ]
  },
  {
   "cell_type": "code",
   "execution_count": 14,
   "id": "5af9dea6-fcea-4f16-b318-cc85cae2433d",
   "metadata": {},
   "outputs": [],
   "source": [
    "# AND... OR... NOT"
   ]
  },
  {
   "cell_type": "code",
   "execution_count": 18,
   "id": "5e3e12dc-5a27-4d14-9e0f-9f570ecd10d2",
   "metadata": {},
   "outputs": [
    {
     "name": "stdout",
     "output_type": "stream",
     "text": [
      "False\n",
      "True\n",
      "True\n",
      "False\n"
     ]
    }
   ],
   "source": [
    "A = 10\n",
    "B = 20\n",
    "C = 30\n",
    "D = 40\n",
    "\n",
    "print(A+B == C and C>D)\n",
    "print(A+B == C and D>C)\n",
    "print(A+B == C and C<D)\n",
    "print(not(A+B == C or C<D))"
   ]
  },
  {
   "cell_type": "markdown",
   "id": "9ffbf66a-803d-4b38-a0bb-942e999e7f06",
   "metadata": {
    "tags": []
   },
   "source": [
    "# Mutable And Immutable"
   ]
  },
  {
   "cell_type": "code",
   "execution_count": 19,
   "id": "51c23dc1-eb07-4f90-be19-e6627de6ab3d",
   "metadata": {},
   "outputs": [],
   "source": [
    "# A Mutable object in one whose value may change in place. Whereas in an Immutable variables change of value will not happen in place. \n",
    "# Modifying"
   ]
  },
  {
   "cell_type": "markdown",
   "id": "ff0e1d32-738c-4d2f-aa57-a358125fc8ca",
   "metadata": {},
   "source": [
    "# Identity Opreator"
   ]
  },
  {
   "cell_type": "code",
   "execution_count": 21,
   "id": "b7cd2ddd-040a-482c-8670-5363a366e910",
   "metadata": {},
   "outputs": [
    {
     "name": "stdout",
     "output_type": "stream",
     "text": [
      "True\n",
      "True\n",
      "False\n"
     ]
    }
   ],
   "source": [
    "A=4\n",
    "B=4\n",
    "print(A==B)\n",
    "print(A is B)\n",
    "print(A is not B)"
   ]
  },
  {
   "cell_type": "code",
   "execution_count": 22,
   "id": "8caa2bee-d5dd-4d32-8e1d-96b567b8c969",
   "metadata": {},
   "outputs": [
    {
     "name": "stdout",
     "output_type": "stream",
     "text": [
      "True\n"
     ]
    }
   ],
   "source": [
    "C=63\n",
    "D=36\n",
    "print(C is not D)"
   ]
  },
  {
   "cell_type": "code",
   "execution_count": 23,
   "id": "4d16551d-ebff-4c22-b7ab-9139c7c10931",
   "metadata": {},
   "outputs": [
    {
     "name": "stdout",
     "output_type": "stream",
     "text": [
      "False\n"
     ]
    }
   ],
   "source": [
    "C=63\n",
    "D=36\n",
    "print(C is D)"
   ]
  },
  {
   "cell_type": "markdown",
   "id": "b27c98d3-7d55-483f-a632-d102451ee979",
   "metadata": {},
   "source": [
    "# Membership Operator"
   ]
  },
  {
   "cell_type": "code",
   "execution_count": 25,
   "id": "544bfbcd-2d37-416b-8a19-38c5d5505613",
   "metadata": {},
   "outputs": [],
   "source": [
    "# In... Not In.."
   ]
  },
  {
   "cell_type": "code",
   "execution_count": 29,
   "id": "45bcada6-14c0-4a0c-9bd5-381402073acc",
   "metadata": {},
   "outputs": [
    {
     "name": "stdout",
     "output_type": "stream",
     "text": [
      "True\n",
      "False\n",
      "True\n",
      "True\n",
      "False\n"
     ]
    }
   ],
   "source": [
    "A = \"Python\"\n",
    "print ('P' in A)\n",
    "print ('p' in A)\n",
    "print ('on' in A)\n",
    "print ('ON' not in A)\n",
    "print ('On' in A)"
   ]
  }
 ],
 "metadata": {
  "kernelspec": {
   "display_name": "Python 3 (ipykernel)",
   "language": "python",
   "name": "python3"
  },
  "language_info": {
   "codemirror_mode": {
    "name": "ipython",
    "version": 3
   },
   "file_extension": ".py",
   "mimetype": "text/x-python",
   "name": "python",
   "nbconvert_exporter": "python",
   "pygments_lexer": "ipython3",
   "version": "3.9.7"
  }
 },
 "nbformat": 4,
 "nbformat_minor": 5
}
