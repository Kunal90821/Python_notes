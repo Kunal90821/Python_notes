{
 "cells": [
  {
   "cell_type": "markdown",
   "id": "26b07d8f",
   "metadata": {},
   "source": [
    "# CONDITIONAL STATEMENTS"
   ]
  },
  {
   "cell_type": "markdown",
   "id": "e3bf8bc3",
   "metadata": {},
   "source": [
    " # Keywords:\n",
    " \n",
    " # 1. If\n",
    " # 2. Else\n",
    " # 3. Elif ------> Else if (to check multiple question)\n",
    " \n",
    " # Blocks:\n",
    " \n",
    " # 1. if block\n",
    " # 2. if else block\n",
    " # 3. nested if else block\n",
    " # 4. if elif block\n",
    " # 5. if elif else block"
   ]
  },
  {
   "cell_type": "markdown",
   "id": "2c1521f0",
   "metadata": {},
   "source": [
    "# SYNTAX:\n",
    "\n",
    "\n",
    "# if condition:\n",
    "\n",
    "        # body of if\n",
    "        \n",
    "# elif condition:\n",
    "\n",
    "        # body of elif\n",
    "\n",
    "# else condition:\n",
    "        \n",
    "        # body of else"
   ]
  },
  {
   "cell_type": "code",
   "execution_count": 1,
   "id": "468067b8",
   "metadata": {},
   "outputs": [
    {
     "name": "stdout",
     "output_type": "stream",
     "text": [
      "false\n"
     ]
    }
   ],
   "source": [
    "b = 76\n",
    "a =9\n",
    "if a>b:\n",
    "    print(\"true\")\n",
    "else:\n",
    "    print(\"false\")"
   ]
  },
  {
   "cell_type": "code",
   "execution_count": 5,
   "id": "fbd0744b",
   "metadata": {},
   "outputs": [
    {
     "name": "stdout",
     "output_type": "stream",
     "text": [
      "Enter a number-----:45\n",
      "End of code\n"
     ]
    }
   ],
   "source": [
    "# if block\n",
    "\n",
    "a = int(input(\"Enter a number-----:\"))\n",
    "\n",
    "if a%2 == 0:\n",
    "    print(\"You have entered an even number\")\n",
    "print(\"End of code\")"
   ]
  },
  {
   "cell_type": "code",
   "execution_count": 7,
   "id": "d44c5da0",
   "metadata": {},
   "outputs": [
    {
     "name": "stdout",
     "output_type": "stream",
     "text": [
      "Enter a number : 44\n",
      "You have entered a number.\n",
      "We will ROCK you\n"
     ]
    }
   ],
   "source": [
    "# if else block\n",
    "\n",
    "a= int(input(\"Enter a number : \"))\n",
    "if a%2 == 0:\n",
    "    print(\"You have entered a number.\")\n",
    "    \n",
    "else:\n",
    "    print(\"Better luck next time\")\n",
    "print(\"We will ROCK you\")"
   ]
  },
  {
   "cell_type": "code",
   "execution_count": 10,
   "id": "3a059838",
   "metadata": {},
   "outputs": [
    {
     "name": "stdout",
     "output_type": "stream",
     "text": [
      "Enter a number: 6\n",
      "6 is divisble by both 2 and 3\n"
     ]
    }
   ],
   "source": [
    "# nested if-else block\n",
    "\n",
    "a= int(input(\"Enter a number: \"))\n",
    "# check whether the number user entered is divisibly :\n",
    "# both 2 and 3\n",
    "# only 2\n",
    "# only 3\n",
    "# neither 2 or 3\n",
    "\n",
    "if a%2 == 0:\n",
    "    if a%3 == 0:\n",
    "        print(a,'is divisble by both 2 and 3')\n",
    "        \n",
    "    else:\n",
    "        print(a,'is divisible by only 2')\n",
    "    \n",
    "else:\n",
    "    if a%3 == 0:\n",
    "        print(a,'is divisible by only 3')\n",
    "    \n",
    "    else:\n",
    "        print(a,'is divisible by neither 2 or 3')"
   ]
  },
  {
   "cell_type": "code",
   "execution_count": 12,
   "id": "77dd2ac4",
   "metadata": {},
   "outputs": [
    {
     "name": "stdout",
     "output_type": "stream",
     "text": [
      "Enter the value of A: 45\n",
      "Enter the value of B: 55\n",
      "Enter the value of C: 1\n",
      "55 ie, B is the greatest of all\n"
     ]
    }
   ],
   "source": [
    "a = int(input(\"Enter the value of A: \"))\n",
    "b = int(input(\"Enter the value of B: \"))\n",
    "c = int(input(\"Enter the value of C: \"))\n",
    "if a > b and a > c:\n",
    "    print(a, \"ie, A is the greatest of all\")\n",
    "\n",
    "elif b > a and b > c:\n",
    "    print(b, \"ie, B is the greatest of all\")\n",
    "    \n",
    "else:\n",
    "    print(c, \"ie, C is the greatest of all\")"
   ]
  },
  {
   "cell_type": "code",
   "execution_count": null,
   "id": "872e2be3",
   "metadata": {},
   "outputs": [],
   "source": []
  }
 ],
 "metadata": {
  "kernelspec": {
   "display_name": "Python 3 (ipykernel)",
   "language": "python",
   "name": "python3"
  },
  "language_info": {
   "codemirror_mode": {
    "name": "ipython",
    "version": 3
   },
   "file_extension": ".py",
   "mimetype": "text/x-python",
   "name": "python",
   "nbconvert_exporter": "python",
   "pygments_lexer": "ipython3",
   "version": "3.9.7"
  }
 },
 "nbformat": 4,
 "nbformat_minor": 5
}
